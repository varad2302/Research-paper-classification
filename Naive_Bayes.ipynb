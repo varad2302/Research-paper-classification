{
  "cells": [
    {
      "cell_type": "code",
      "execution_count": null,
      "id": "3ff6dcbd",
      "metadata": {
        "id": "3ff6dcbd"
      },
      "outputs": [],
      "source": [
        "import pandas as pd\n",
        "from sklearn.model_selection import train_test_split\n",
        "from sklearn.feature_extraction.text import TfidfVectorizer\n",
        "from sklearn.naive_bayes import MultinomialNB\n",
        "from sklearn.metrics import accuracy_score\n",
        "from sklearn.metrics import f1_score\n",
        "from sklearn.multiclass import OneVsRestClassifier\n",
        "from sklearn.pipeline import Pipeline\n",
        "from nltk.tokenize import word_tokenize\n",
        "import joblib"
      ]
    },
    {
      "cell_type": "code",
      "execution_count": null,
      "id": "119d8729",
      "metadata": {
        "id": "119d8729"
      },
      "outputs": [],
      "source": [
        "data = pd.read_csv('F:/ML/PaperClassification/Data/SampledArxiv.csv')"
      ]
    },
    {
      "cell_type": "code",
      "execution_count": null,
      "id": "269272e4",
      "metadata": {
        "id": "269272e4"
      },
      "outputs": [],
      "source": [
        "from nltk.tokenize import word_tokenize\n",
        "data['Text'] = data['Text'].apply(word_tokenize)"
      ]
    },
    {
      "cell_type": "code",
      "execution_count": null,
      "id": "19a30cd1",
      "metadata": {
        "id": "19a30cd1"
      },
      "outputs": [],
      "source": [
        "# Split into training and testing data\n",
        "categories = list(data.columns[1:])\n",
        "train, test = train_test_split(data, random_state=42, test_size=0.25, shuffle=True)\n",
        "X_train = train.Text\n",
        "X_test = test.Text"
      ]
    },
    {
      "cell_type": "code",
      "execution_count": null,
      "id": "d9579137",
      "metadata": {
        "id": "d9579137",
        "outputId": "5d19d0b0-9b51-4f44-c5c1-381e07c4233a"
      },
      "outputs": [
        {
          "data": {
            "text/plain": [
              "['astro-ph',\n",
              " 'cond-mat',\n",
              " 'cs',\n",
              " 'gr-qc',\n",
              " 'hep-ph',\n",
              " 'hep-th',\n",
              " 'math',\n",
              " 'math-ph',\n",
              " 'physics',\n",
              " 'quant-ph',\n",
              " 'stat']"
            ]
          },
          "execution_count": 20,
          "metadata": {},
          "output_type": "execute_result"
        }
      ],
      "source": [
        "categories"
      ]
    },
    {
      "cell_type": "code",
      "execution_count": null,
      "id": "b0aabde1",
      "metadata": {
        "id": "b0aabde1"
      },
      "outputs": [],
      "source": [
        "def identity_tokenizer(text):\n",
        "    return text"
      ]
    },
    {
      "cell_type": "code",
      "execution_count": null,
      "id": "ffaa38da",
      "metadata": {
        "id": "ffaa38da",
        "outputId": "81e81286-9ce2-41f6-ef22-6ede6ef7565c"
      },
      "outputs": [
        {
          "name": "stdout",
          "output_type": "stream",
          "text": [
            "... Processing astro-ph\n",
            "Test Accuracy is 0.8564813459307891\n",
            "Test F1 score is 0.84746699295455\n",
            "... Processing cond-mat\n",
            "Test Accuracy is 0.827264332608867\n",
            "Test F1 score is 0.7399863129503642\n",
            "... Processing cs\n",
            "Test Accuracy is 0.8431143793425749\n",
            "Test F1 score is 0.8377523326213686\n",
            "... Processing gr-qc\n",
            "Test Accuracy is 0.85061992545129\n",
            "Test F1 score is 0.005668934240362812\n",
            "... Processing hep-ph\n",
            "Test Accuracy is 0.843542302451549\n",
            "Test F1 score is 0.5257083392460148\n",
            "... Processing hep-th\n",
            "Test Accuracy is 0.8269659125460299\n",
            "Test F1 score is 0.18024394868229793\n",
            "... Processing math\n",
            "Test Accuracy is 0.8160820261033097\n",
            "Test F1 score is 0.8316008316008316\n",
            "... Processing math-ph\n",
            "Test Accuracy is 0.8636434274388802\n",
            "Test F1 score is 0.0\n",
            "... Processing physics\n",
            "Test Accuracy is 0.7965439578383127\n",
            "Test F1 score is 0.03477621349022904\n",
            "... Processing quant-ph\n",
            "Test Accuracy is 0.8387788425806016\n",
            "Test F1 score is 0.03014896084203015\n",
            "... Processing stat\n",
            "Test Accuracy is 0.8513969437281111\n",
            "Test F1 score is 0.0004631773969430292\n"
          ]
        }
      ],
      "source": [
        "NB_pipeline = Pipeline([\n",
        "                ('tfidf', TfidfVectorizer(tokenizer=identity_tokenizer,lowercase=False)),\n",
        "                ('clf', OneVsRestClassifier(MultinomialNB(\n",
        "                    fit_prior=True, class_prior=None))),\n",
        "            ])\n",
        "for category in categories:\n",
        "    print('... Processing {}'.format(category))\n",
        "    # Train the model for each category\n",
        "    NB_pipeline.fit(X_train, train[category])\n",
        "    # Evaluate modef accuracy and F1score\n",
        "    prediction = NB_pipeline.predict(X_test)\n",
        "    print('Test Accuracy is {}'.format(accuracy_score(test[category], prediction)))\n",
        "    print('Test F1 score is {}'.format(f1_score(test[category], prediction)))"
      ]
    }
  ],
  "metadata": {
    "kernelspec": {
      "display_name": "Python 3",
      "language": "python",
      "name": "python3"
    },
    "language_info": {
      "codemirror_mode": {
        "name": "ipython",
        "version": 3
      },
      "file_extension": ".py",
      "mimetype": "text/x-python",
      "name": "python",
      "nbconvert_exporter": "python",
      "pygments_lexer": "ipython3",
      "version": "3.8.8"
    },
    "colab": {
      "name": "Naive Bayes.ipynb",
      "provenance": []
    }
  },
  "nbformat": 4,
  "nbformat_minor": 5
}