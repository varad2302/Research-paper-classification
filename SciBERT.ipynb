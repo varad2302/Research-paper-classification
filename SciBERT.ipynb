{
  "cells": [
    {
      "cell_type": "code",
      "execution_count": null,
      "id": "5fcbf9e2",
      "metadata": {
        "id": "5fcbf9e2"
      },
      "outputs": [],
      "source": [
        "jupyter nbextension enable --py widgetsnbextension"
      ]
    },
    {
      "cell_type": "code",
      "execution_count": null,
      "id": "7e860d90",
      "metadata": {
        "id": "7e860d90",
        "outputId": "4e3a4601-692a-47dc-ea99-4c4f2380b2ff"
      },
      "outputs": [
        {
          "name": "stdout",
          "output_type": "stream",
          "text": [
            "Device : cuda\n"
          ]
        }
      ],
      "source": [
        "import numpy as np\n",
        "import pandas as pd\n",
        "from sklearn import metrics\n",
        "import torch\n",
        "import transformers\n",
        "from torch.utils.data import Dataset, DataLoader, RandomSampler, SequentialSampler\n",
        "from transformers import BertTokenizer, BertModel, BertConfig, AutoTokenizer, AutoModel\n",
        "\n",
        "from torch import cuda\n",
        "device = 'cuda' if cuda.is_available() else 'cpu'\n",
        "\n",
        "print(f\"Device : {device}\")"
      ]
    },
    {
      "cell_type": "code",
      "execution_count": null,
      "id": "89c6e40a",
      "metadata": {
        "id": "89c6e40a"
      },
      "outputs": [],
      "source": [
        "MAX_LEN = 256\n",
        "TRAIN_BATCH_SIZE = 32\n",
        "VAL_BATCH_SIZE = 32\n",
        "EPOCHS = 3\n",
        "LEARNING_RATE = 2e-5"
      ]
    },
    {
      "cell_type": "code",
      "execution_count": null,
      "id": "724272ce",
      "metadata": {
        "id": "724272ce",
        "outputId": "84caed6b-6fee-464c-8a2d-2adb1da587b1",
        "colab": {
          "referenced_widgets": [
            "1ffd6827ca514f2ea7aca7d7b3f8669d",
            "a4f693389b32428a9a663af9f92b426b",
            "8a861178fd224cf586a7c784e4667284"
          ]
        }
      },
      "outputs": [
        {
          "data": {
            "application/vnd.jupyter.widget-view+json": {
              "model_id": "1ffd6827ca514f2ea7aca7d7b3f8669d",
              "version_major": 2,
              "version_minor": 0
            },
            "text/plain": [
              "Downloading:   0%|          | 0.00/213k [00:00<?, ?B/s]"
            ]
          },
          "metadata": {},
          "output_type": "display_data"
        },
        {
          "data": {
            "application/vnd.jupyter.widget-view+json": {
              "model_id": "a4f693389b32428a9a663af9f92b426b",
              "version_major": 2,
              "version_minor": 0
            },
            "text/plain": [
              "Downloading:   0%|          | 0.00/29.0 [00:00<?, ?B/s]"
            ]
          },
          "metadata": {},
          "output_type": "display_data"
        },
        {
          "data": {
            "application/vnd.jupyter.widget-view+json": {
              "model_id": "8a861178fd224cf586a7c784e4667284",
              "version_major": 2,
              "version_minor": 0
            },
            "text/plain": [
              "Downloading:   0%|          | 0.00/436k [00:00<?, ?B/s]"
            ]
          },
          "metadata": {},
          "output_type": "display_data"
        }
      ],
      "source": [
        "#Uncomment tokenizer to be used\n",
        "\n",
        "#tokenizer = BertTokenizer.from_pretrained('bert-base-cased')\n",
        "tokenizer = AutoTokenizer.from_pretrained(\"allenai/scibert_scivocab_cased\")"
      ]
    },
    {
      "cell_type": "code",
      "execution_count": null,
      "id": "f2630d6e",
      "metadata": {
        "id": "f2630d6e"
      },
      "outputs": [],
      "source": [
        "class CustomDataset(Dataset):\n",
        "    def __init__(self, dataframe, tokenizer, max_len):\n",
        "        self.data = dataframe\n",
        "        self.text = self.data.Text\n",
        "        self.targets = self.data.category\n",
        "        self.tokenizer = tokenizer\n",
        "        self.max_len = max_len\n",
        "\n",
        "    def __len__(self):\n",
        "        return len(self.text)\n",
        "\n",
        "    def __getitem__(self, index):\n",
        "        text = str(self.text[index])\n",
        "        text = \" \".join(text.split())\n",
        "\n",
        "        inputs = self.tokenizer.encode_plus(\n",
        "            text,\n",
        "            None,\n",
        "            add_special_tokens=True,\n",
        "            max_length=self.max_len,\n",
        "            pad_to_max_length=True,\n",
        "            return_token_type_ids=True\n",
        "        )\n",
        "\n",
        "        ids = inputs['input_ids']\n",
        "        attention_mask = inputs['attention_mask']\n",
        "        token_type_ids = inputs['token_type_ids']\n",
        "\n",
        "        return {\n",
        "            'ids': torch.tensor(ids, dtype=torch.long),\n",
        "            'mask': torch.tensor(attention_mask, dtype=torch.long),\n",
        "            'token_type_ids': torch.tensor(token_type_ids, dtype=torch.long),\n",
        "            'targets': torch.tensor(self.targets[index], dtype=torch.float)\n",
        "        }\n",
        "\n",
        "\n",
        "class BERTClass(torch.nn.Module):\n",
        "    def __init__(self):\n",
        "        super(BERTClass, self).__init__()\n",
        "        self.l1 = BertModel.from_pretrained('bert-base-cased', return_dict=False)\n",
        "        self.l2 = torch.nn.Dropout(0.3)\n",
        "        self.l3 = torch.nn.Linear(768, 11)\n",
        "\n",
        "    def forward(self, ids, mask, token_type_ids):\n",
        "        _, output_1= self.l1(ids, attention_mask = mask, token_type_ids = token_type_ids)\n",
        "        output_2 = self.l2(output_1)\n",
        "        output = self.l3(output_2)\n",
        "        return output\n",
        "\n",
        "\n",
        "class SciBERTClass(torch.nn.Module):\n",
        "    def __init__(self):\n",
        "        super(SciBERTClass, self).__init__()\n",
        "        self.l1 = AutoModel.from_pretrained(\"allenai/scibert_scivocab_cased\", return_dict=False)\n",
        "        self.l2 = torch.nn.Dropout(0.3)\n",
        "        self.l3 = torch.nn.Linear(768, 11)\n",
        "\n",
        "    def forward(self, ids, mask, token_type_ids):\n",
        "        _, output_1 = self.l1(ids, attention_mask=mask, token_type_ids=token_type_ids)\n",
        "        output_2 = self.l2(output_1)\n",
        "        output = self.l3(output_2)\n",
        "        return output\n",
        "\n",
        "\n",
        "def loss_fn(outputs, targets):\n",
        "    return torch.nn.BCEWithLogitsLoss()(outputs, targets)\n",
        "\n",
        "\n",
        "def train(epoch):\n",
        "    model.train()\n",
        "    for _, data in enumerate(training_loader, 0):\n",
        "        ids = data['ids'].to(device, dtype=torch.long)\n",
        "        mask = data['mask'].to(device, dtype=torch.long)\n",
        "        token_type_ids = data['token_type_ids'].to(device, dtype=torch.long)\n",
        "        targets = data['targets'].to(device, dtype=torch.float)\n",
        "\n",
        "        outputs = model(ids, mask, token_type_ids)\n",
        "\n",
        "        optimizer.zero_grad()\n",
        "        loss = loss_fn(outputs, targets)\n",
        "\n",
        "        if _ % 500 == 0:\n",
        "            print(f'Epoch: {epoch}, Loss:  {loss.item()}')\n",
        "\n",
        "        optimizer.zero_grad()\n",
        "        loss.backward()\n",
        "        optimizer.step()\n",
        "\n",
        "\n",
        "def validation(epoch):\n",
        "    model.eval()\n",
        "    fin_targets=[]\n",
        "    fin_outputs=[]\n",
        "    with torch.no_grad():\n",
        "        for _, data in enumerate(testing_loader, 0):\n",
        "            ids = data['ids'].to(device, dtype = torch.long)\n",
        "            mask = data['mask'].to(device, dtype = torch.long)\n",
        "            token_type_ids = data['token_type_ids'].to(device, dtype = torch.long)\n",
        "            targets = data['targets'].to(device, dtype = torch.float)\n",
        "            outputs = model(ids, mask, token_type_ids)\n",
        "            fin_targets.extend(targets.cpu().detach().numpy().tolist())\n",
        "            fin_outputs.extend(torch.sigmoid(outputs).cpu().detach().numpy().tolist())\n",
        "    return fin_outputs, fin_targets\n",
        "\n",
        "\n",
        "def get_data():\n",
        "    df = pd.read_csv('F:/ML/PaperClassification/Data/SampledArxiv.csv')\n",
        "    df['category'] = df[df.columns[1:]].values.tolist()\n",
        "    data = df[['Text', 'category']].copy()\n",
        "    train_size = 0.8\n",
        "    train_dataset = data.sample(frac=train_size, random_state=42)\n",
        "    test_dataset = data.drop(train_dataset.index).reset_index(drop=True)\n",
        "    train_dataset = train_dataset.reset_index(drop=True)\n",
        "\n",
        "    print(\"FULL Dataset: {}\".format(data.shape))\n",
        "    print(\"TRAIN Dataset: {}\".format(train_dataset.shape))\n",
        "    print(\"TEST Dataset: {}\".format(test_dataset.shape))\n",
        "\n",
        "    training_set = CustomDataset(train_dataset, tokenizer, MAX_LEN)\n",
        "    testing_set = CustomDataset(test_dataset, tokenizer, MAX_LEN)\n",
        "\n",
        "    return training_set, testing_set"
      ]
    },
    {
      "cell_type": "code",
      "execution_count": null,
      "id": "bb62a269",
      "metadata": {
        "id": "bb62a269",
        "outputId": "7dd34515-3a12-43d2-b1ff-fe5e888c092e"
      },
      "outputs": [
        {
          "name": "stdout",
          "output_type": "stream",
          "text": [
            "FULL Dataset: (710407, 2)\n",
            "TRAIN Dataset: (568326, 2)\n",
            "TEST Dataset: (142081, 2)\n"
          ]
        }
      ],
      "source": [
        "training_set, testing_set = get_data()\n",
        "\n",
        "train_params = {\n",
        "    'batch_size': TRAIN_BATCH_SIZE,\n",
        "    'shuffle': True,\n",
        "    'num_workers': 0\n",
        "}\n",
        "test_params = {\n",
        "    'batch_size': VAL_BATCH_SIZE,\n",
        "    'shuffle': True,\n",
        "    'num_workers': 0\n",
        "}\n",
        "\n",
        "training_loader = DataLoader(training_set, **train_params)\n",
        "testing_loader = DataLoader(testing_set, **test_params)"
      ]
    },
    {
      "cell_type": "code",
      "execution_count": null,
      "id": "bf74ea21",
      "metadata": {
        "id": "bf74ea21"
      },
      "outputs": [],
      "source": [
        "#Uncomment model to be used\n",
        "\n",
        "#model = BERTClass()\n",
        "model = SciBERTClass()\n",
        "model.to(device)\n",
        "optimizer = torch.optim.Adam(params=model.parameters(), lr=LEARNING_RATE)"
      ]
    },
    {
      "cell_type": "code",
      "execution_count": null,
      "id": "8c513a9e",
      "metadata": {
        "id": "8c513a9e",
        "outputId": "8b61fae5-e13d-4190-8bef-c196272c6b71"
      },
      "outputs": [
        {
          "name": "stderr",
          "output_type": "stream",
          "text": [
            "C:\\Users\\Varad\\Anaconda3\\envs\\pt\\lib\\site-packages\\transformers\\tokenization_utils_base.py:2073: FutureWarning: The `pad_to_max_length` argument is deprecated and will be removed in a future version, use `padding=True` or `padding='longest'` to pad to the longest sequence in the batch, or use `padding='max_length'` to pad to a max length. In this case, you can give a specific length with `max_length` (e.g. `max_length=45`) or leave max_length to None to pad to the maximal input size of the model (e.g. 512 for Bert).\n",
            "  warnings.warn(\n"
          ]
        },
        {
          "name": "stdout",
          "output_type": "stream",
          "text": [
            "Epoch: 0, Loss:  0.6391966938972473\n",
            "Epoch: 0, Loss:  0.16672003269195557\n",
            "Epoch: 0, Loss:  0.12156003713607788\n",
            "Epoch: 0, Loss:  0.0771590992808342\n",
            "Epoch: 0, Loss:  0.1375623643398285\n",
            "Epoch: 0, Loss:  0.0667928010225296\n",
            "Epoch: 0, Loss:  0.10788874328136444\n",
            "Epoch: 0, Loss:  0.08249708265066147\n",
            "Epoch: 0, Loss:  0.07441641390323639\n",
            "Epoch: 0, Loss:  0.07802104949951172\n",
            "Epoch: 0, Loss:  0.07774622738361359\n",
            "Epoch: 0, Loss:  0.10352782160043716\n",
            "Epoch: 0, Loss:  0.08946099132299423\n",
            "Epoch: 0, Loss:  0.0959123745560646\n",
            "Epoch: 0, Loss:  0.0807165801525116\n",
            "Epoch: 0, Loss:  0.1299416422843933\n",
            "Epoch: 0, Loss:  0.0773983895778656\n",
            "Epoch: 0, Loss:  0.04049670696258545\n",
            "Epoch: 0, Loss:  0.09803441911935806\n",
            "Epoch: 0, Loss:  0.10183229297399521\n",
            "Epoch: 0, Loss:  0.09978660196065903\n",
            "Epoch: 0, Loss:  0.05341735854744911\n",
            "Epoch: 0, Loss:  0.06825852394104004\n",
            "Epoch: 0, Loss:  0.08274786174297333\n",
            "Epoch: 0, Loss:  0.06359201669692993\n",
            "Epoch: 0, Loss:  0.07750534266233444\n",
            "Epoch: 0, Loss:  0.1036125123500824\n",
            "Epoch: 0, Loss:  0.1002432256937027\n",
            "Epoch: 0, Loss:  0.05072169005870819\n",
            "Epoch: 0, Loss:  0.08120491355657578\n",
            "Epoch: 0, Loss:  0.03412136808037758\n",
            "Epoch: 0, Loss:  0.051209814846515656\n",
            "Epoch: 0, Loss:  0.11629129946231842\n",
            "Epoch: 0, Loss:  0.0879366397857666\n",
            "Epoch: 0, Loss:  0.03860807418823242\n",
            "Epoch: 0, Loss:  0.11202672868967056\n",
            "Epoch: 1, Loss:  0.06550393253564835\n",
            "Epoch: 1, Loss:  0.09836389869451523\n",
            "Epoch: 1, Loss:  0.040847182273864746\n",
            "Epoch: 1, Loss:  0.0923999547958374\n",
            "Epoch: 1, Loss:  0.06056978553533554\n",
            "Epoch: 1, Loss:  0.10474924743175507\n",
            "Epoch: 1, Loss:  0.06460226327180862\n",
            "Epoch: 1, Loss:  0.10630618780851364\n",
            "Epoch: 1, Loss:  0.07950739562511444\n",
            "Epoch: 1, Loss:  0.11421748250722885\n",
            "Epoch: 1, Loss:  0.1001419648528099\n",
            "Epoch: 1, Loss:  0.08479058742523193\n",
            "Epoch: 1, Loss:  0.10412047803401947\n",
            "Epoch: 1, Loss:  0.07428532093763351\n",
            "Epoch: 1, Loss:  0.07721078395843506\n",
            "Epoch: 1, Loss:  0.06919582933187485\n",
            "Epoch: 1, Loss:  0.05480656027793884\n",
            "Epoch: 1, Loss:  0.11139344424009323\n",
            "Epoch: 1, Loss:  0.06833190470933914\n",
            "Epoch: 1, Loss:  0.0510740764439106\n",
            "Epoch: 1, Loss:  0.09332404285669327\n",
            "Epoch: 1, Loss:  0.08008374273777008\n",
            "Epoch: 1, Loss:  0.05089111998677254\n",
            "Epoch: 1, Loss:  0.06233707442879677\n",
            "Epoch: 1, Loss:  0.05657303333282471\n",
            "Epoch: 1, Loss:  0.052531417459249496\n",
            "Epoch: 1, Loss:  0.10897933691740036\n",
            "Epoch: 1, Loss:  0.04859993979334831\n",
            "Epoch: 1, Loss:  0.08607770502567291\n",
            "Epoch: 1, Loss:  0.07438377290964127\n",
            "Epoch: 1, Loss:  0.09762512892484665\n",
            "Epoch: 1, Loss:  0.0407528281211853\n",
            "Epoch: 1, Loss:  0.04771076515316963\n",
            "Epoch: 1, Loss:  0.08117765188217163\n",
            "Epoch: 1, Loss:  0.07480446994304657\n",
            "Epoch: 1, Loss:  0.04835330322384834\n",
            "Epoch: 2, Loss:  0.0561632476747036\n",
            "Epoch: 2, Loss:  0.10710708796977997\n",
            "Epoch: 2, Loss:  0.04710644111037254\n",
            "Epoch: 2, Loss:  0.07847676426172256\n",
            "Epoch: 2, Loss:  0.05471494048833847\n",
            "Epoch: 2, Loss:  0.040186211466789246\n",
            "Epoch: 2, Loss:  0.05742620676755905\n",
            "Epoch: 2, Loss:  0.10083486884832382\n",
            "Epoch: 2, Loss:  0.02594403363764286\n",
            "Epoch: 2, Loss:  0.07252086699008942\n",
            "Epoch: 2, Loss:  0.07966652512550354\n",
            "Epoch: 2, Loss:  0.06552049517631531\n",
            "Epoch: 2, Loss:  0.06127907708287239\n",
            "Epoch: 2, Loss:  0.06153597682714462\n",
            "Epoch: 2, Loss:  0.0865921676158905\n",
            "Epoch: 2, Loss:  0.04920336604118347\n",
            "Epoch: 2, Loss:  0.05948885530233383\n",
            "Epoch: 2, Loss:  0.10074317455291748\n",
            "Epoch: 2, Loss:  0.07247252762317657\n",
            "Epoch: 2, Loss:  0.07089468836784363\n",
            "Epoch: 2, Loss:  0.0999533087015152\n",
            "Epoch: 2, Loss:  0.06171755492687225\n",
            "Epoch: 2, Loss:  0.10888031870126724\n",
            "Epoch: 2, Loss:  0.06476294249296188\n",
            "Epoch: 2, Loss:  0.07285173237323761\n",
            "Epoch: 2, Loss:  0.11150902509689331\n",
            "Epoch: 2, Loss:  0.05227353423833847\n",
            "Epoch: 2, Loss:  0.0473443828523159\n",
            "Epoch: 2, Loss:  0.06795494258403778\n",
            "Epoch: 2, Loss:  0.039641812443733215\n",
            "Epoch: 2, Loss:  0.08058726787567139\n",
            "Epoch: 2, Loss:  0.06215197592973709\n",
            "Epoch: 2, Loss:  0.12754201889038086\n",
            "Epoch: 2, Loss:  0.05460401251912117\n",
            "Epoch: 2, Loss:  0.05729695037007332\n",
            "Epoch: 2, Loss:  0.06141164153814316\n"
          ]
        }
      ],
      "source": [
        "for epoch in range(EPOCHS):\n",
        "    train(epoch)"
      ]
    },
    {
      "cell_type": "code",
      "execution_count": null,
      "id": "f17e2a94",
      "metadata": {
        "id": "f17e2a94",
        "outputId": "bac36486-8913-46f8-8bd4-2c691a1e7db9"
      },
      "outputs": [
        {
          "name": "stdout",
          "output_type": "stream",
          "text": [
            "Accuracy Score = 0.7498891477396696\n",
            "F1 Score (Micro) = 0.8612193564179542\n",
            "F1 Score (Macro) = 0.8033602262464462\n"
          ]
        },
        {
          "name": "stderr",
          "output_type": "stream",
          "text": [
            "C:\\Users\\Varad\\Anaconda3\\envs\\pt\\lib\\site-packages\\transformers\\tokenization_utils_base.py:2073: FutureWarning: The `pad_to_max_length` argument is deprecated and will be removed in a future version, use `padding=True` or `padding='longest'` to pad to the longest sequence in the batch, or use `padding='max_length'` to pad to a max length. In this case, you can give a specific length with `max_length` (e.g. `max_length=45`) or leave max_length to None to pad to the maximal input size of the model (e.g. 512 for Bert).\n",
            "  warnings.warn(\n"
          ]
        },
        {
          "name": "stdout",
          "output_type": "stream",
          "text": [
            "Accuracy Score = 0.7498891477396696\n",
            "F1 Score (Micro) = 0.8612193564179542\n",
            "F1 Score (Macro) = 0.8033602262464462\n"
          ]
        },
        {
          "name": "stderr",
          "output_type": "stream",
          "text": [
            "C:\\Users\\Varad\\Anaconda3\\envs\\pt\\lib\\site-packages\\transformers\\tokenization_utils_base.py:2073: FutureWarning: The `pad_to_max_length` argument is deprecated and will be removed in a future version, use `padding=True` or `padding='longest'` to pad to the longest sequence in the batch, or use `padding='max_length'` to pad to a max length. In this case, you can give a specific length with `max_length` (e.g. `max_length=45`) or leave max_length to None to pad to the maximal input size of the model (e.g. 512 for Bert).\n",
            "  warnings.warn(\n"
          ]
        },
        {
          "name": "stdout",
          "output_type": "stream",
          "text": [
            "Accuracy Score = 0.7498891477396696\n",
            "F1 Score (Micro) = 0.8612193564179542\n",
            "F1 Score (Macro) = 0.8033602262464462\n"
          ]
        }
      ],
      "source": [
        "for epoch in range(EPOCHS):\n",
        "    outputs, targets = validation(epoch)\n",
        "    outputs = np.array(outputs) >= 0.5\n",
        "    accuracy = metrics.accuracy_score(targets, outputs)\n",
        "    f1_score_micro = metrics.f1_score(targets, outputs, average='micro')\n",
        "    f1_score_macro = metrics.f1_score(targets, outputs, average='macro')\n",
        "    print(f\"Accuracy Score = {accuracy}\")\n",
        "    print(f\"F1 Score (Micro) = {f1_score_micro}\")\n",
        "    print(f\"F1 Score (Macro) = {f1_score_macro}\")"
      ]
    },
    {
      "cell_type": "code",
      "execution_count": null,
      "id": "3c3140fc",
      "metadata": {
        "id": "3c3140fc",
        "outputId": "86cbed82-867e-4fa9-9603-9dd766dc3be7"
      },
      "outputs": [
        {
          "data": {
            "text/plain": [
              "('./BERT_3/vocab.txt',)"
            ]
          },
          "execution_count": 24,
          "metadata": {},
          "output_type": "execute_result"
        }
      ],
      "source": [
        "output_model_file = 'BERT_3/BERT_3.bin'\n",
        "output_vocab_file = './BERT_3/'\n",
        "\n",
        "model_to_save = model\n",
        "torch.save(model_to_save, output_model_file)\n",
        "tokenizer.save_vocabulary(output_vocab_file)"
      ]
    },
    {
      "cell_type": "code",
      "execution_count": null,
      "id": "79c38dfd",
      "metadata": {
        "id": "79c38dfd"
      },
      "outputs": [],
      "source": [
        ""
      ]
    }
  ],
  "metadata": {
    "kernelspec": {
      "display_name": "Python 3",
      "language": "python",
      "name": "python3"
    },
    "language_info": {
      "codemirror_mode": {
        "name": "ipython",
        "version": 3
      },
      "file_extension": ".py",
      "mimetype": "text/x-python",
      "name": "python",
      "nbconvert_exporter": "python",
      "pygments_lexer": "ipython3",
      "version": "3.8.8"
    },
    "colab": {
      "name": "SciBERT.ipynb",
      "provenance": []
    }
  },
  "nbformat": 4,
  "nbformat_minor": 5
}